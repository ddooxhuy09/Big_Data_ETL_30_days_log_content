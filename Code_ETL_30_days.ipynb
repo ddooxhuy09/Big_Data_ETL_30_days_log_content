{
 "cells": [
  {
   "cell_type": "code",
   "execution_count": 11,
   "metadata": {},
   "outputs": [],
   "source": [
    "import findspark\n",
    "findspark.init()"
   ]
  },
  {
   "cell_type": "code",
   "execution_count": 12,
   "metadata": {},
   "outputs": [],
   "source": [
    "from pyspark.sql import SparkSession\n",
    "from pyspark.sql.functions import col\n",
    "from pyspark.sql.functions import when\n",
    "import pyspark.sql.functions as sf\n",
    "import os "
   ]
  },
  {
   "cell_type": "code",
   "execution_count": 13,
   "metadata": {},
   "outputs": [],
   "source": [
    "spark = SparkSession.builder.config(\"spark.driver.memory\", \"8g\").config(\"spark.executor.cores\",8).getOrCreate() "
   ]
  },
  {
   "cell_type": "code",
   "execution_count": 14,
   "metadata": {},
   "outputs": [],
   "source": [
    "def combine_Table(path):\n",
    "    list_file = os.listdir(path)\n",
    "    file_name = list_file[0]\n",
    "    df =  spark.read.json(path + file_name)\n",
    "    for i in list_file[1:]:\n",
    "        df2 = spark.read.json(path + i)\n",
    "        df = df.union(df2)\n",
    "        df = df.cache()\n",
    "    return df"
   ]
  },
  {
   "cell_type": "code",
   "execution_count": 15,
   "metadata": {},
   "outputs": [],
   "source": [
    "def pivot_data(df):\n",
    "    TV = df.filter(df.Type == 'Truyền Hình')\n",
    "    Movie = df.filter(df.Type == 'Phim Truyện')\n",
    "    Relax = df.filter(df.Type == 'Giải Trí')\n",
    "    Child = df.filter(df.Type == 'Thiếu Nhi')\n",
    "    Sport = df.filter(df.Type == 'Thể Thao')\n",
    "    TV = TV.withColumnRenamed('TotalDuration','TVDuration').drop('Type')\n",
    "    Movie = Movie.withColumnRenamed('TotalDuration','MovieDuration').drop('Type')\n",
    "    Relax = Relax.withColumnRenamed('TotalDuration','RelaxDuration').drop('Type')\n",
    "    Child = Child.withColumnRenamed('TotalDuration','ChildDuration').drop('Type')\n",
    "    Sport = Sport.withColumnRenamed('TotalDuration','SportDuration').drop('Type')\n",
    "    output = TV.join(Movie,on='Contract',how='outer').\\\n",
    "        join(Relax,on='Contract',how='outer').\\\n",
    "            join(Child,on='Contract',how='outer').\\\n",
    "                join(Sport,on='Contract',how='outer')\n",
    "    return output "
   ]
  },
  {
   "cell_type": "code",
   "execution_count": 16,
   "metadata": {},
   "outputs": [],
   "source": [
    "def main_task(df):\n",
    "    df.printSchema()\n",
    "    df = df.select('_source.*')\n",
    "    print('------------------------')\n",
    "    print('Transforming data')\n",
    "    print('------------------------')\n",
    "    df = df.withColumn(\"Type\",\n",
    "           when((col(\"AppName\") == 'CHANNEL') | (col(\"AppName\") =='DSHD')| (col(\"AppName\") =='KPLUS')| (col(\"AppName\") =='KPlus'), \"Truyền Hình\")\n",
    "          .when((col(\"AppName\") == 'VOD') | (col(\"AppName\") =='FIMS_RES')| (col(\"AppName\") =='BHD_RES')| \n",
    "                 (col(\"AppName\") =='VOD_RES')| (col(\"AppName\") =='FIMS')| (col(\"AppName\") =='BHD')| (col(\"AppName\") =='DANET'), \"Phim Truyện\")\n",
    "          .when((col(\"AppName\") == 'RELAX'), \"Giải Trí\")\n",
    "          .when((col(\"AppName\") == 'CHILD'), \"Thiếu Nhi\")\n",
    "          .when((col(\"AppName\") == 'SPORT'), \"Thể Thao\")\n",
    "          .otherwise(\"Error\"))\n",
    "    df = df.select('Contract','Type','TotalDuration')\n",
    "    df = df.filter(df.Contract != '0' )\n",
    "    df = df.filter(df.Type != 'Error')\n",
    "    df = df.groupBy('Contract','Type').sum('TotalDuration').withColumnRenamed('sum(TotalDuration)','TotalDuration')\n",
    "    print('-----------------------------')\n",
    "    print('Pivoting data')\n",
    "    print('-----------------------------')\n",
    "    result = pivot_data(df)\n",
    "    result = result.withColumn('Date',lit('2022-04-01'))\n",
    "    print('-----------------------------')\n",
    "    print('Showing result output')\n",
    "    print('-----------------------------')\n",
    "    result.show(10,truncate=False)\n",
    "    print('-----------------------------')\n",
    "    print('Saving result output')\n",
    "    print('-----------------------------')\n",
    "    result.repartition(1).write.csv('Result')\n",
    "    return print('Task Ran Successfully')"
   ]
  },
  {
   "cell_type": "code",
   "execution_count": 17,
   "metadata": {},
   "outputs": [
    {
     "name": "stdout",
     "output_type": "stream",
     "text": [
      "root\n",
      " |-- _id: string (nullable = true)\n",
      " |-- _index: string (nullable = true)\n",
      " |-- _score: long (nullable = true)\n",
      " |-- _source: struct (nullable = true)\n",
      " |    |-- AppName: string (nullable = true)\n",
      " |    |-- Contract: string (nullable = true)\n",
      " |    |-- Mac: string (nullable = true)\n",
      " |    |-- TotalDuration: long (nullable = true)\n",
      " |-- _type: string (nullable = true)\n",
      "\n",
      "------------------------\n",
      "Transforming data\n",
      "------------------------\n",
      "-----------------------------\n",
      "Pivoting data\n",
      "-----------------------------\n",
      "-----------------------------\n",
      "Showing result output\n",
      "-----------------------------\n",
      "+---------+----------+-------------+-------------+-------------+-------------+----------+\n",
      "|Contract |TVDuration|MovieDuration|RelaxDuration|ChildDuration|SportDuration|Date      |\n",
      "+---------+----------+-------------+-------------+-------------+-------------+----------+\n",
      "|AGAAA0848|12141     |null         |null         |null         |null         |2022-04-01|\n",
      "|AGAAA1147|1299590   |null         |103          |null         |null         |2022-04-01|\n",
      "|AGAAA1282|168792    |null         |null         |427          |null         |2022-04-01|\n",
      "|AGAAA1992|75782     |null         |null         |null         |null         |2022-04-01|\n",
      "|AGAAA2588|1078595   |null         |null         |null         |null         |2022-04-01|\n",
      "|AGAAA3255|21636     |22           |null         |36           |null         |2022-04-01|\n",
      "|AGD003807|4352      |153369       |null         |164          |null         |2022-04-01|\n",
      "|AGD004253|264972    |null         |null         |null         |null         |2022-04-01|\n",
      "|AGD008179|115222    |135699       |13225        |null         |null         |2022-04-01|\n",
      "|AGD011212|308980    |3799         |null         |null         |null         |2022-04-01|\n",
      "+---------+----------+-------------+-------------+-------------+-------------+----------+\n",
      "only showing top 10 rows\n",
      "\n",
      "-----------------------------\n",
      "Saving result output\n",
      "-----------------------------\n",
      "Task Ran Successfully\n"
     ]
    }
   ],
   "source": [
    "path = \"data_log_content//\"\n",
    "data = combine_Table(path)\n",
    "main_task(data)"
   ]
  }
 ],
 "metadata": {
  "kernelspec": {
   "display_name": "base",
   "language": "python",
   "name": "python3"
  },
  "language_info": {
   "codemirror_mode": {
    "name": "ipython",
    "version": 3
   },
   "file_extension": ".py",
   "mimetype": "text/x-python",
   "name": "python",
   "nbconvert_exporter": "python",
   "pygments_lexer": "ipython3",
   "version": "3.10.9"
  },
  "orig_nbformat": 4
 },
 "nbformat": 4,
 "nbformat_minor": 2
}
